{
 "cells": [
  {
   "cell_type": "code",
   "execution_count": 5,
   "id": "bcf50cf3-8118-45ff-b69c-16cf9750433d",
   "metadata": {},
   "outputs": [],
   "source": [
    "import numpy as np\n",
    "import pandas as pd\n",
    "import matplotlib.pyplot as plt\n",
    "import seaborn as sns\n",
    "from sklearn.metrics.pairwise import cosine_similarity\n",
    "from sklearn.preprocessing import StandardScaler"
   ]
  },
  {
   "cell_type": "code",
   "execution_count": 2,
   "id": "d081d88e-b0c7-4321-8707-ef16f4766cec",
   "metadata": {},
   "outputs": [],
   "source": [
    "customers_path = \"Downloads/Customers.csv\"\n",
    "products_path = \"Downloads/Products.csv\"\n",
    "transactions_path = \"Downloads/Transactions.csv\"\n",
    "customers_df = pd.read_csv(customers_path)\n",
    "products_df = pd.read_csv(products_path)\n",
    "transactions_df = pd.read_csv(transactions_path)"
   ]
  },
  {
   "cell_type": "code",
   "execution_count": 3,
   "id": "076ef626-c867-405e-888a-86faf724e431",
   "metadata": {},
   "outputs": [
    {
     "name": "stdout",
     "output_type": "stream",
     "text": [
      "  TransactionID CustomerID ProductID     TransactionDate  Quantity  \\\n",
      "0        T00001      C0199      P067 2024-08-25 12:38:23         1   \n",
      "1        T00112      C0146      P067 2024-05-27 22:23:54         1   \n",
      "2        T00166      C0127      P067 2024-04-25 07:38:55         1   \n",
      "3        T00272      C0087      P067 2024-03-26 22:55:37         2   \n",
      "4        T00363      C0070      P067 2024-03-21 15:10:10         3   \n",
      "\n",
      "   TotalValue  Price_x     CustomerName         Region SignupDate  \\\n",
      "0      300.68   300.68   Andrea Jenkins         Europe 2022-12-03   \n",
      "1      300.68   300.68  Brittany Harvey           Asia 2024-09-04   \n",
      "2      300.68   300.68  Kathryn Stevens         Europe 2024-04-04   \n",
      "3      601.36   300.68  Travis Campbell  South America 2024-04-11   \n",
      "4      902.04   300.68    Timothy Perez         Europe 2022-03-15   \n",
      "\n",
      "                       ProductName     Category  Price_y  \n",
      "0  ComfortLiving Bluetooth Speaker  Electronics   300.68  \n",
      "1  ComfortLiving Bluetooth Speaker  Electronics   300.68  \n",
      "2  ComfortLiving Bluetooth Speaker  Electronics   300.68  \n",
      "3  ComfortLiving Bluetooth Speaker  Electronics   300.68  \n",
      "4  ComfortLiving Bluetooth Speaker  Electronics   300.68  \n"
     ]
    }
   ],
   "source": [
    "customers_df['SignupDate'] = pd.to_datetime(customers_df['SignupDate'])\n",
    "transactions_df['TransactionDate'] = pd.to_datetime(transactions_df['TransactionDate'])\n",
    "\n",
    "merged_df = transactions_df.merge(customers_df, on='CustomerID', how='left').merge(products_df, on='ProductID', how='left')\n",
    "print(merged_df.head())"
   ]
  },
  {
   "cell_type": "code",
   "execution_count": 4,
   "id": "96460255-46cf-4831-9d8a-b9f169fd19bc",
   "metadata": {},
   "outputs": [],
   "source": [
    "region_sales = merged_df.groupby('Region')['TotalValue'].sum()\n",
    "top_products = merged_df.groupby('ProductName')['TotalValue'].sum().sort_values(ascending=False).head(5)\n",
    "category_sales = merged_df.groupby('Category')['TotalValue'].sum()\n",
    "repeat_customers = merged_df['CustomerID'].value_counts().loc[lambda x: x > 1].count()\n",
    "monthly_sales = merged_df.groupby(merged_df['TransactionDate'].dt.to_period('M'))['TotalValue'].sum()"
   ]
  },
  {
   "cell_type": "code",
   "execution_count": 6,
   "id": "69c84f81-dac9-4a14-a16c-708cb886bf41",
   "metadata": {},
   "outputs": [],
   "source": [
    "merged_df = transactions_df.merge(customers_df, on='CustomerID', how='left').merge(products_df, on='ProductID', how='left')\n",
    "customer_features = merged_df.groupby('CustomerID').agg({\n",
    "    'TotalValue': 'sum',  \n",
    "    'ProductID': 'nunique',  \n",
    "    'TransactionDate': 'count',  \n",
    "    'Category': lambda x: x.nunique()  \n",
    "}).reset_index()"
   ]
  },
  {
   "cell_type": "code",
   "execution_count": 7,
   "id": "375f1c16-102a-49a6-a30f-ca4d82fa30e1",
   "metadata": {},
   "outputs": [],
   "source": [
    "scaler = StandardScaler()\n",
    "customer_features[['TotalValue', 'ProductID', 'TransactionDate', 'Category']] = scaler.fit_transform(\n",
    "    customer_features[['TotalValue', 'ProductID', 'TransactionDate', 'Category']]\n",
    ")\n",
    "\n",
    "def get_similar_customers(target_customer_id, n_recommendations=3):\n",
    "    # Extract the target customer's profile\n",
    "    target_customer_profile = customer_features[customer_features['CustomerID'] == target_customer_id]\n",
    "    other_customers = customer_features[customer_features['CustomerID'] != target_customer_id]\n",
    "    \n",
    "    similarity_scores = cosine_similarity(target_customer_profile[['TotalValue', 'ProductID', 'TransactionDate', 'Category']],\n",
    "                                          other_customers[['TotalValue', 'ProductID', 'TransactionDate', 'Category']])\n",
    "    \n",
    "    similarity_df = pd.DataFrame(similarity_scores.T, columns=['SimilarityScore'])\n",
    "    similarity_df['CustomerID'] = other_customers['CustomerID'].values\n",
    "    \n",
    "    similar_customers = similarity_df.sort_values(by='SimilarityScore', ascending=False).head(n_recommendations)\n",
    "    \n",
    "    return similar_customers"
   ]
  },
  {
   "cell_type": "code",
   "execution_count": 8,
   "id": "7f90e55e-56c3-488e-b2b6-14b8c0373791",
   "metadata": {},
   "outputs": [
    {
     "name": "stdin",
     "output_type": "stream",
     "text": [
      "Input the  user's information:  C0001\n"
     ]
    },
    {
     "name": "stdout",
     "output_type": "stream",
     "text": [
      "     SimilarityScore CustomerID\n",
      "150         0.995727      C0152\n",
      "186         0.968616      C0189\n",
      "84          0.967202      C0086\n"
     ]
    }
   ],
   "source": [
    "target_customer_id = input(\"Input the  user's information: \")\n",
    "similar_customers = get_similar_customers(target_customer_id=target_customer_id, n_recommendations=3)\n",
    "\n",
    "print(similar_customers)"
   ]
  },
  {
   "cell_type": "code",
   "execution_count": null,
   "id": "6b0a6a58-26b1-49a9-9771-1443bc2cbb21",
   "metadata": {},
   "outputs": [],
   "source": []
  }
 ],
 "metadata": {
  "kernelspec": {
   "display_name": "Python 3 (ipykernel)",
   "language": "python",
   "name": "python3"
  },
  "language_info": {
   "codemirror_mode": {
    "name": "ipython",
    "version": 3
   },
   "file_extension": ".py",
   "mimetype": "text/x-python",
   "name": "python",
   "nbconvert_exporter": "python",
   "pygments_lexer": "ipython3",
   "version": "3.12.4"
  }
 },
 "nbformat": 4,
 "nbformat_minor": 5
}
